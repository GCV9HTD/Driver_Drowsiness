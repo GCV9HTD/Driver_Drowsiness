{
 "cells": [
  {
   "cell_type": "code",
   "execution_count": 13,
   "metadata": {},
   "outputs": [],
   "source": [
    "import keras\n",
    "from keras.models import Sequential\n",
    "from keras.layers import Conv2D\n",
    "from keras.layers import MaxPooling2D\n",
    "from keras.layers import Flatten\n",
    "from keras.layers import Dense\n",
    "from keras.layers import Dropout\n",
    "from keras.preprocessing.image import ImageDataGenerator\n",
    "import json\n",
    "from keras.models import model_from_json, load_model"
   ]
  },
  {
   "cell_type": "code",
   "execution_count": 14,
   "metadata": {},
   "outputs": [],
   "source": [
    "import numpy as np\n",
    "seed = 7\n",
    "np.random.seed(seed)"
   ]
  },
  {
   "cell_type": "code",
   "execution_count": 15,
   "metadata": {},
   "outputs": [],
   "source": [
    "\n",
    "from PIL import Image\n",
    "from keras.preprocessing import image"
   ]
  },
  {
   "cell_type": "code",
   "execution_count": 16,
   "metadata": {},
   "outputs": [
    {
     "name": "stdout",
     "output_type": "stream",
     "text": [
      "channels_last\n"
     ]
    }
   ],
   "source": [
    "from keras import backend as K \n",
    "print(K.image_data_format())"
   ]
  },
  {
   "cell_type": "code",
   "execution_count": 17,
   "metadata": {},
   "outputs": [],
   "source": [
    "def classifier_model():\n",
    "    classifier=Sequential()\n",
    "    classifier.add(Conv2D(32, (3, 3), input_shape = (64,64, 3), activation = 'relu'))\n",
    "    classifier.add(MaxPooling2D(pool_size = (2, 2)))\n",
    "    classifier.add(Conv2D(32, (3, 3), activation = 'relu'))\n",
    "    classifier.add(MaxPooling2D(pool_size = (2, 2)))\n",
    "    classifier.add(Flatten())\n",
    "    classifier.add(Dense(units = 128, activation = 'relu'))\n",
    "    classifier.add(Dense(units = 1, activation = 'sigmoid'))\n",
    "    classifier.compile(optimizer = 'adam', loss = 'binary_crossentropy', metrics = ['accuracy'])\n",
    "    classifier.summary()\n",
    "    return classifier\n",
    "    "
   ]
  },
  {
   "cell_type": "code",
   "execution_count": null,
   "metadata": {},
   "outputs": [
    {
     "name": "stdout",
     "output_type": "stream",
     "text": [
      "Found 3894 images belonging to 2 classes.\n",
      "Found 952 images belonging to 2 classes.\n"
     ]
    }
   ],
   "source": [
    "train_dir='eyedataset/train'\n",
    "validation_dir='eyedataset/valid'\n",
    "img_width=64\n",
    "img_height=64\n",
    "input_shape=(img_width,img_height,3)\n",
    "batch_size=50\n",
    "train_datagen = ImageDataGenerator(\n",
    "        rescale=1./255,\n",
    "        shear_range=0.2,\n",
    "        zoom_range=0.2,\n",
    "        rotation_range=30,\n",
    "        horizontal_flip=True)\n",
    "\n",
    "test_datagen = ImageDataGenerator(rescale=1./255)\n",
    "\n",
    "train_generator = train_datagen.flow_from_directory(train_dir,\n",
    "    target_size=(img_width,img_height),\n",
    "    batch_size=batch_size,\n",
    "    class_mode=\"binary\",\n",
    ")\n",
    "validation_generator = test_datagen.flow_from_directory( validation_dir, \n",
    "                   target_size =(img_width,img_height), \n",
    "                   batch_size = batch_size, \n",
    "                   class_mode ='binary') \n",
    "\n",
    "\n"
   ]
  },
  {
   "cell_type": "code",
   "execution_count": null,
   "metadata": {
    "scrolled": true
   },
   "outputs": [
    {
     "name": "stdout",
     "output_type": "stream",
     "text": [
      "_________________________________________________________________\n",
      "Layer (type)                 Output Shape              Param #   \n",
      "=================================================================\n",
      "conv2d_1 (Conv2D)            (None, 62, 62, 32)        896       \n",
      "_________________________________________________________________\n",
      "max_pooling2d_1 (MaxPooling2 (None, 31, 31, 32)        0         \n",
      "_________________________________________________________________\n",
      "conv2d_2 (Conv2D)            (None, 29, 29, 32)        9248      \n",
      "_________________________________________________________________\n",
      "max_pooling2d_2 (MaxPooling2 (None, 14, 14, 32)        0         \n",
      "_________________________________________________________________\n",
      "flatten_1 (Flatten)          (None, 6272)              0         \n",
      "_________________________________________________________________\n",
      "dense_1 (Dense)              (None, 128)               802944    \n",
      "_________________________________________________________________\n",
      "dense_2 (Dense)              (None, 64)                8256      \n",
      "_________________________________________________________________\n",
      "dense_3 (Dense)              (None, 1)                 65        \n",
      "=================================================================\n",
      "Total params: 821,409\n",
      "Trainable params: 821,409\n",
      "Non-trainable params: 0\n",
      "_________________________________________________________________\n",
      "Epoch 1/100\n",
      "100/100 [==============================] - 54s 540ms/step - loss: 0.6129 - acc: 0.6515 - val_loss: 0.5094 - val_acc: 0.7375\n",
      "Epoch 2/100\n",
      "100/100 [==============================] - 53s 529ms/step - loss: 0.4432 - acc: 0.8002 - val_loss: 0.3056 - val_acc: 0.8744\n",
      "Epoch 3/100\n",
      "100/100 [==============================] - 51s 513ms/step - loss: 0.3295 - acc: 0.8675 - val_loss: 0.2558 - val_acc: 0.9147\n",
      "Epoch 4/100\n",
      "100/100 [==============================] - 51s 510ms/step - loss: 0.2794 - acc: 0.8897 - val_loss: 0.2169 - val_acc: 0.9278\n",
      "Epoch 5/100\n",
      "100/100 [==============================] - 51s 512ms/step - loss: 0.2384 - acc: 0.9069 - val_loss: 0.1907 - val_acc: 0.9364\n",
      "Epoch 6/100\n",
      "100/100 [==============================] - 51s 511ms/step - loss: 0.2320 - acc: 0.9111 - val_loss: 0.2474 - val_acc: 0.8981\n",
      "Epoch 7/100\n",
      "100/100 [==============================] - 51s 510ms/step - loss: 0.2118 - acc: 0.9183 - val_loss: 0.1763 - val_acc: 0.9380\n",
      "Epoch 8/100\n",
      "100/100 [==============================] - 50s 505ms/step - loss: 0.1897 - acc: 0.9280 - val_loss: 0.1783 - val_acc: 0.9440\n",
      "Epoch 9/100\n",
      "100/100 [==============================] - 51s 506ms/step - loss: 0.1694 - acc: 0.9357 - val_loss: 0.1281 - val_acc: 0.9572\n",
      "Epoch 10/100\n",
      "100/100 [==============================] - 50s 502ms/step - loss: 0.1704 - acc: 0.9360 - val_loss: 0.1353 - val_acc: 0.9516\n",
      "Epoch 11/100\n",
      "100/100 [==============================] - 50s 501ms/step - loss: 0.1656 - acc: 0.9349 - val_loss: 0.1411 - val_acc: 0.9472\n",
      "Epoch 12/100\n",
      "100/100 [==============================] - 50s 500ms/step - loss: 0.1626 - acc: 0.9391 - val_loss: 0.1343 - val_acc: 0.9546\n",
      "Epoch 13/100\n",
      "100/100 [==============================] - 51s 507ms/step - loss: 0.1441 - acc: 0.9417 - val_loss: 0.1285 - val_acc: 0.9530\n",
      "Epoch 14/100\n",
      "100/100 [==============================] - 51s 512ms/step - loss: 0.1385 - acc: 0.9471 - val_loss: 0.1611 - val_acc: 0.9414\n",
      "Epoch 15/100\n",
      "100/100 [==============================] - 51s 510ms/step - loss: 0.1282 - acc: 0.9511 - val_loss: 0.1170 - val_acc: 0.9592\n",
      "Epoch 16/100\n",
      "100/100 [==============================] - 51s 510ms/step - loss: 0.1444 - acc: 0.9446 - val_loss: 0.1390 - val_acc: 0.9448\n",
      "Epoch 17/100\n",
      "100/100 [==============================] - 51s 511ms/step - loss: 0.1304 - acc: 0.9477 - val_loss: 0.1618 - val_acc: 0.9463\n",
      "Epoch 18/100\n",
      "100/100 [==============================] - 52s 518ms/step - loss: 0.1422 - acc: 0.9448 - val_loss: 0.1152 - val_acc: 0.9580\n",
      "Epoch 19/100\n",
      "100/100 [==============================] - 52s 521ms/step - loss: 0.1313 - acc: 0.9515 - val_loss: 0.1523 - val_acc: 0.9438\n",
      "Epoch 20/100\n",
      "100/100 [==============================] - 51s 513ms/step - loss: 0.1279 - acc: 0.9503 - val_loss: 0.1078 - val_acc: 0.9597\n",
      "Epoch 21/100\n",
      "100/100 [==============================] - 52s 517ms/step - loss: 0.1111 - acc: 0.9561 - val_loss: 0.1479 - val_acc: 0.9534\n",
      "Epoch 22/100\n",
      "100/100 [==============================] - 51s 510ms/step - loss: 0.1369 - acc: 0.9488 - val_loss: 0.1093 - val_acc: 0.9639\n",
      "Epoch 23/100\n",
      "100/100 [==============================] - 52s 525ms/step - loss: 0.1038 - acc: 0.9583 - val_loss: 0.1232 - val_acc: 0.9526\n",
      "Epoch 24/100\n",
      "100/100 [==============================] - 53s 527ms/step - loss: 0.1166 - acc: 0.9557 - val_loss: 0.1353 - val_acc: 0.9580\n",
      "Epoch 25/100\n",
      "100/100 [==============================] - 51s 512ms/step - loss: 0.1102 - acc: 0.9581 - val_loss: 0.1352 - val_acc: 0.9455\n",
      "Epoch 26/100\n",
      "100/100 [==============================] - 52s 520ms/step - loss: 0.1074 - acc: 0.9597 - val_loss: 0.1338 - val_acc: 0.9559\n",
      "Epoch 27/100\n",
      "100/100 [==============================] - 51s 515ms/step - loss: 0.1117 - acc: 0.9577 - val_loss: 0.1507 - val_acc: 0.9434\n",
      "Epoch 28/100\n",
      "100/100 [==============================] - 51s 512ms/step - loss: 0.0963 - acc: 0.9653 - val_loss: 0.1261 - val_acc: 0.9580\n",
      "Epoch 29/100\n",
      "100/100 [==============================] - 52s 515ms/step - loss: 0.0990 - acc: 0.9589 - val_loss: 0.1316 - val_acc: 0.9613\n",
      "Epoch 30/100\n",
      "100/100 [==============================] - 51s 514ms/step - loss: 0.1006 - acc: 0.9617 - val_loss: 0.1599 - val_acc: 0.9457\n",
      "Epoch 31/100\n",
      "100/100 [==============================] - 52s 516ms/step - loss: 0.0994 - acc: 0.9613 - val_loss: 0.1410 - val_acc: 0.9493\n",
      "Epoch 32/100\n",
      "100/100 [==============================] - 51s 510ms/step - loss: 0.0948 - acc: 0.9641 - val_loss: 0.1322 - val_acc: 0.9597\n",
      "Epoch 33/100\n",
      "100/100 [==============================] - 51s 513ms/step - loss: 0.0873 - acc: 0.9651 - val_loss: 0.1528 - val_acc: 0.9538\n",
      "Epoch 34/100\n",
      "100/100 [==============================] - 51s 510ms/step - loss: 0.0982 - acc: 0.9619 - val_loss: 0.1551 - val_acc: 0.9499\n",
      "Epoch 35/100\n",
      "100/100 [==============================] - 51s 512ms/step - loss: 0.1059 - acc: 0.9610 - val_loss: 0.1539 - val_acc: 0.9459\n",
      "Epoch 36/100\n",
      "100/100 [==============================] - 51s 510ms/step - loss: 0.0856 - acc: 0.9678 - val_loss: 0.1237 - val_acc: 0.9584\n",
      "Epoch 37/100\n",
      " 75/100 [=====================>........] - ETA: 11s - loss: 0.0979 - acc: 0.9629"
     ]
    }
   ],
   "source": [
    "cnn=classifier_model()\n",
    "hist=cnn.fit_generator(\n",
    "    train_generator,\n",
    "    steps_per_epoch=100,\n",
    "    epochs=100,\n",
    "    validation_data=validation_generator,\n",
    "    validation_steps=50)\n",
    "#cnn.save_weights('eyecnn.h5')\n",
    "#with open('eyemodel_architecture.json', 'w') as f:\n",
    "    #f.write(cnn.to_json())\n",
    "cnn.save('trained_model_2.h5')"
   ]
  },
  {
   "cell_type": "code",
   "execution_count": 20,
   "metadata": {},
   "outputs": [],
   "source": [
    "history=hist"
   ]
  },
  {
   "cell_type": "code",
   "execution_count": 21,
   "metadata": {},
   "outputs": [
    {
     "name": "stdout",
     "output_type": "stream",
     "text": [
      "dict_keys(['val_loss', 'val_acc', 'loss', 'acc'])\n"
     ]
    },
    {
     "data": {
      "image/png": "[encoded data removed]",
      "text/plain": [
       "<Figure size 432x288 with 1 Axes>"
      ]
     },
     "metadata": {
      "needs_background": "light"
     },
     "output_type": "display_data"
    }
   ],
   "source": [
    "import matplotlib.pyplot as plt\n",
    "print(history.history.keys())\n",
    "plt.plot(history.history['acc'])\n",
    "plt.plot(history.history['val_acc'])\n",
    "plt.title('model accuracy')\n",
    "plt.ylabel('accuracy')\n",
    "plt.xlabel('epoch')\n",
    "plt.legend(['train', 'test'], loc='upper left')\n",
    "plt.show()\n",
    "\n"
   ]
  },
  {
   "cell_type": "code",
   "execution_count": 22,
   "metadata": {},
   "outputs": [
    {
     "name": "stdout",
     "output_type": "stream",
     "text": [
      "0.9699999940395355\n",
      "0.9735772294726798\n",
      "0.9295824281507126\n",
      "0.9389157654468605\n"
     ]
    }
   ],
   "source": [
    "print(np.amax(history.history['acc']))\n",
    "print(np.amax(history.history['val_acc']))\n",
    "print(np.average(history.history['acc']))\n",
    "print(np.average(history.history['val_acc']))"
   ]
  },
  {
   "cell_type": "code",
   "execution_count": 23,
   "metadata": {
    "scrolled": true
   },
   "outputs": [
    {
     "data": {
      "image/png": "[encoded data removed]",
      "text/plain": [
       "<Figure size 432x288 with 1 Axes>"
      ]
     },
     "metadata": {
      "needs_background": "light"
     },
     "output_type": "display_data"
    }
   ],
   "source": [
    "plt.plot(history.history['loss'])\n",
    "plt.plot(history.history['val_loss'])\n",
    "plt.title('model loss')\n",
    "plt.ylabel('loss')\n",
    "plt.xlabel('epoch')\n",
    "plt.legend(['train', 'test'], loc='upper left')\n",
    "plt.show()"
   ]
  },
  {
   "cell_type": "code",
   "execution_count": 1,
   "metadata": {},
   "outputs": [
    {
     "name": "stdout",
     "output_type": "stream",
     "text": [
      "98.89\n",
      "96.6\n"
     ]
    }
   ],
   "source": [
    "print(np.xmax(history.history['acc']))\n",
    "print(np.xmax(history.history['val_acc']))\n",
    "\n"
   ]
  }
 ],
 "metadata": {
  "kernelspec": {
   "display_name": "Python (deep_learning)",
   "language": "python",
   "name": "deep_learning"
  },
  "language_info": {
   "codemirror_mode": {
    "name": "ipython",
    "version": 3
   },
   "file_extension": ".py",
   "mimetype": "text/x-python",
   "name": "python",
   "nbconvert_exporter": "python",
   "pygments_lexer": "ipython3",
   "version": "3.6.7"
  }
 },
 "nbformat": 4,
 "nbformat_minor": 2
}
