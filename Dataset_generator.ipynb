{
 "cells": [
  {
   "cell_type": "code",
   "execution_count": 13,
   "metadata": {},
   "outputs": [],
   "source": [
    "from scipy.spatial import distance as dist\n",
    "from imutils import face_utils\n",
    "import numpy as np\n",
    "import imutils\n",
    "import dlib\n",
    "import cv2\n",
    "import glob"
   ]
  },
  {
   "cell_type": "code",
   "execution_count": 14,
   "metadata": {},
   "outputs": [],
   "source": [
    "predictor_path = 'shape_predictor_68_face_landmarks.dat'\n",
    "detector = dlib.get_frontal_face_detector()\n",
    "predictor = dlib.shape_predictor(predictor_path)\n"
   ]
  },
  {
   "cell_type": "code",
   "execution_count": 15,
   "metadata": {},
   "outputs": [],
   "source": [
    "(lStart, lEnd) = face_utils.FACIAL_LANDMARKS_IDXS[\"left_eye\"]\n",
    "(rStart, rEnd) = face_utils.FACIAL_LANDMARKS_IDXS[\"right_eye\"]\n",
    "(mStart, mEnd) = face_utils.FACIAL_LANDMARKS_IDXS[\"mouth\"]"
   ]
  },
  {
   "cell_type": "code",
   "execution_count": 16,
   "metadata": {
    "collapsed": true
   },
   "outputs": [
    {
     "name": "stdout",
     "output_type": "stream",
     "text": [
      "42 48\n",
      "36 42\n",
      "48 68\n"
     ]
    }
   ],
   "source": [
    "print(lStart, lEnd)\n",
    "print(rStart, rEnd) \n",
    "print(mStart, mEnd) "
   ]
  },
  {
   "cell_type": "code",
   "execution_count": 37,
   "metadata": {},
   "outputs": [],
   "source": [
    "count = 0\n",
    "for image in glob.glob(\"dataset\\\\closedeyes\\\\*\\\\*.jpg\"):\n",
    "    \n",
    "    img=cv2.imread(image,cv2.IMREAD_COLOR)\n",
    "    gray=cv2.cvtColor(img,cv2.COLOR_BGR2GRAY)\n",
    "    rects = detector(gray, 0)\n",
    "    \n",
    "    for rect in rects:\n",
    "        shape = predictor(gray, rect)\n",
    "        shape = face_utils.shape_to_np(shape)\n",
    "        leftEye = shape[lStart:lEnd]\n",
    "        rightEye = shape[rStart:rEnd]\n",
    "        mouth = shape[mStart:mEnd]\n",
    "        #print(\"left eye\" ,leftEye)\n",
    "        #print(\"right eye\" ,rightEye)\n",
    "        #print(\"mouth\" ,mouth)\n",
    "        \n",
    "    \n",
    "    for rect in rects:\n",
    "        shape = predictor(gray, rect)\n",
    "        shape = face_utils.shape_to_np(shape)\n",
    "        leftEye = np.array([shape[lStart:lEnd]])\n",
    "        rightEye = np.array([shape[rStart:rEnd]])\n",
    "        mouth = np.array([shape[mStart:mEnd]])\n",
    "        \n",
    "        (x, y, w, h) = cv2.boundingRect(leftEye)\n",
    "        roi1 = img[y-10:y + h+10, x-10:x + w+10]\n",
    "        cv2.imwrite('Left Eye\\\\closed\\\\left_eye_%d.jpg' % count, roi1)\n",
    "        \n",
    "        (x, y, w, h) = cv2.boundingRect(rightEye)\n",
    "        roi1 = img[y-10:y + h+10, x-10:x + w+10]\n",
    "        cv2.imwrite('Right Eye\\\\closed\\\\right_eye_%d.jpg' % count, roi1)\n",
    "        \n",
    "        (x, y, w, h) = cv2.boundingRect(mouth)\n",
    "        roi1 = img[y-10:y + h+10, x-10:x + w+10]\n",
    "        cv2.imwrite('Mouth\\\\closed\\\\mouth_%d.jpg' % count, roi1)\n",
    "        \n",
    "    count = count + 1"
   ]
  },
  {
   "cell_type": "code",
   "execution_count": null,
   "metadata": {},
   "outputs": [],
   "source": []
  }
 ],
 "metadata": {
  "kernelspec": {
   "display_name": "Python 3",
   "language": "python",
   "name": "python3"
  },
  "language_info": {
   "codemirror_mode": {
    "name": "ipython",
    "version": 3
   },
   "file_extension": ".py",
   "mimetype": "text/x-python",
   "name": "python",
   "nbconvert_exporter": "python",
   "pygments_lexer": "ipython3",
   "version": "3.7.0"
  }
 },
 "nbformat": 4,
 "nbformat_minor": 2
}
